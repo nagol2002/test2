{
 "cells": [
  {
   "cell_type": "markdown",
   "id": "6cd41f2e-3343-4478-8a41-45c668e6c042",
   "metadata": {},
   "source": [
    "1. Write a Python program to print the numbers from 1 to 10 using a `for` loop."
   ]
  },
  {
   "cell_type": "code",
   "execution_count": 7,
   "id": "e030ab1c-9d5a-4494-9057-1f035a5b6978",
   "metadata": {},
   "outputs": [
    {
     "name": "stdout",
     "output_type": "stream",
     "text": [
      "1\n",
      "2\n",
      "3\n",
      "4\n",
      "5\n",
      "6\n",
      "7\n",
      "8\n",
      "9\n",
      "10\n"
     ]
    }
   ],
   "source": [
    "\n",
    "for i in range(1,11):\n",
    "    print(i)\n",
    "    i+=1"
   ]
  },
  {
   "cell_type": "markdown",
   "id": "6c1a4510-df72-4d44-89d0-1853d510f078",
   "metadata": {},
   "source": [
    "2. Create a program that calculates the sum of all numbers in a list using a `for` loop."
   ]
  },
  {
   "cell_type": "code",
   "execution_count": 11,
   "id": "4d933316-96a1-4cdb-b444-eadc1897284d",
   "metadata": {},
   "outputs": [
    {
     "name": "stdout",
     "output_type": "stream",
     "text": [
      "the sum all numbers in the list is :- 899\n"
     ]
    }
   ],
   "source": [
    "list=[12,23,4,5,667,88,99,1]\n",
    "sum=0\n",
    "for i in list :\n",
    "    sum=sum+i\n",
    "print('the sum all numbers in the list is :-',sum)\n",
    "\n",
    "    "
   ]
  },
  {
   "cell_type": "markdown",
   "id": "2b0936a5-445a-4508-bf55-8be8897274b5",
   "metadata": {},
   "source": [
    "3. Write a program to print the characters of a string in reverse order using a `for` loop."
   ]
  },
  {
   "cell_type": "code",
   "execution_count": 30,
   "id": "d0c4f3a7-298d-4859-8d65-1f57e8620e49",
   "metadata": {},
   "outputs": [
    {
     "name": "stdin",
     "output_type": "stream",
     "text": [
      "enter a string sampath\n"
     ]
    },
    {
     "name": "stdout",
     "output_type": "stream",
     "text": [
      "the string u entered is  sampath\n",
      "the reversed string is : htapmas \n"
     ]
    }
   ],
   "source": [
    "def reverse(string):\n",
    "    reversed_string=\" \"\n",
    "    for i in string:\n",
    "        reversed_string=i+reversed_string\n",
    "    print(\"the reversed string is :\",reversed_string)\n",
    "\n",
    "string=input(\"enter a string\")\n",
    "print(\"the string u entered is \",string)\n",
    "reverse(string)"
   ]
  },
  {
   "cell_type": "markdown",
   "id": "3d6758dd-8206-48fe-bc21-2df89e0a6502",
   "metadata": {},
   "source": [
    "4. Develop a program that finds the factorial of a given number using a `for` loop."
   ]
  },
  {
   "cell_type": "code",
   "execution_count": 37,
   "id": "5f8a0045-6c8e-4bf1-94aa-5a4407ae7b6a",
   "metadata": {},
   "outputs": [
    {
     "name": "stdin",
     "output_type": "stream",
     "text": [
      "enter a number 5\n"
     ]
    },
    {
     "name": "stdout",
     "output_type": "stream",
     "text": [
      "u entered number is : 5\n",
      "the factorial of is 120\n"
     ]
    }
   ],
   "source": [
    "def factorial(n):\n",
    "    factorial=1\n",
    "    for i in range(n):\n",
    "        factorial*=i+1\n",
    "    print(\"the factorial of is\",factorial)\n",
    "    \n",
    "\n",
    "n=int(input(\"enter a number\"))\n",
    "print(\"u entered number is :\",n)\n",
    "factorial(n)\n",
    "    "
   ]
  },
  {
   "cell_type": "markdown",
   "id": "29a631a6-8143-4390-bc00-e23fb98ed19f",
   "metadata": {},
   "source": [
    "5. Create a program to print the multiplication table of a given number using a `for` loop."
   ]
  },
  {
   "cell_type": "code",
   "execution_count": 43,
   "id": "178c6678-b773-4433-882a-fcf101db4915",
   "metadata": {},
   "outputs": [
    {
     "name": "stdin",
     "output_type": "stream",
     "text": [
      "enter a number: 4\n"
     ]
    },
    {
     "name": "stdout",
     "output_type": "stream",
     "text": [
      "5 * 1 = 5\n",
      "5 * 2 = 10\n",
      "5 * 3 = 15\n",
      "5 * 4 = 20\n",
      "5 * 5 = 25\n",
      "5 * 6 = 30\n",
      "5 * 7 = 35\n",
      "5 * 8 = 40\n",
      "5 * 9 = 45\n",
      "5 * 10 = 50\n",
      "5 * 11 = 55\n",
      "5 * 12 = 60\n",
      "5 * 13 = 65\n",
      "5 * 14 = 70\n",
      "5 * 15 = 75\n",
      "5 * 16 = 80\n",
      "5 * 17 = 85\n",
      "5 * 18 = 90\n",
      "5 * 19 = 95\n",
      "5 * 20 = 100\n"
     ]
    }
   ],
   "source": [
    "d=int(input(\"enter a number:\"))\n",
    "for i in range(1,21):\n",
    "    print(n,\"*\",i,\"=\",n*i)\n",
    "    \n",
    "        "
   ]
  },
  {
   "cell_type": "markdown",
   "id": "2aebb80c-bdf6-4a8a-8601-f07ae74d1050",
   "metadata": {},
   "source": [
    "6.write a program that counts the number of even and odd numbers in a list using for loop."
   ]
  },
  {
   "cell_type": "code",
   "execution_count": 60,
   "id": "3852893e-a891-4481-9898-0ba95b46bb07",
   "metadata": {},
   "outputs": [
    {
     "name": "stdout",
     "output_type": "stream",
     "text": [
      "the number of total even numbers : 4\n",
      "the number of total oddd numbers:  8\n"
     ]
    }
   ],
   "source": [
    "n=[12,13,45,22,3,2,5,66,77,9,99,1]\n",
    "total_even=0\n",
    "total_odd=0\n",
    "for i in n:\n",
    "    if i%2==0:\n",
    "        total_even+=1\n",
    "    else:\n",
    "        total_odd+=1\n",
    "print(\"the number of total even numbers :\",total_even)\n",
    "print(\"the number of total oddd numbers: \",total_odd)\n",
    "    \n",
    "    "
   ]
  },
  {
   "cell_type": "markdown",
   "id": "62460b4d-0302-4bba-8dba-c10f4a37bfca",
   "metadata": {},
   "source": [
    "7. Develop a program that prints the squares of numbers from 1 to 5 using a `for` loop."
   ]
  },
  {
   "cell_type": "code",
   "execution_count": 67,
   "id": "53e50d8d-a01b-4831-9201-001a690e22f2",
   "metadata": {},
   "outputs": [
    {
     "name": "stdout",
     "output_type": "stream",
     "text": [
      "the sqaure of the  1  is:- 1\n",
      "the sqaure of the  2  is:- 4\n",
      "the sqaure of the  3  is:- 9\n",
      "the sqaure of the  4  is:- 16\n",
      "the sqaure of the  5  is:- 25\n"
     ]
    }
   ],
   "source": [
    "n=0\n",
    "for i in range(1,6):\n",
    "    n=n+1\n",
    "    i=i**2\n",
    "    print(\"the sqaure of the \",n,\" is:-\",i)"
   ]
  },
  {
   "cell_type": "markdown",
   "id": "5f1b12d3-40af-407e-ad26-29087fe0bf19",
   "metadata": {},
   "source": [
    "8.create a program to find the length of a string without using a 'len()' function"
   ]
  },
  {
   "cell_type": "code",
   "execution_count": 78,
   "id": "d794131c-48b0-450c-b1d5-4695aa1b8fa5",
   "metadata": {},
   "outputs": [
    {
     "name": "stdout",
     "output_type": "stream",
     "text": [
      "the length of the string without using the len() function is:- 8\n"
     ]
    }
   ],
   "source": [
    "count=0\n",
    "for i in \"pwskills\":\n",
    "    count=count+1\n",
    "print(\"the length of the string without using the len() function is:-\",count)\n",
    "    "
   ]
  },
  {
   "cell_type": "markdown",
   "id": "b864c066-b826-4331-9e9f-1837cf2ddeff",
   "metadata": {},
   "source": [
    "9.write a program that calculates the average of a list  of numbers using a for loop?"
   ]
  },
  {
   "cell_type": "code",
   "execution_count": 84,
   "id": "617c7a60-db64-4d11-9e45-d7a03e9e828d",
   "metadata": {},
   "outputs": [
    {
     "name": "stdout",
     "output_type": "stream",
     "text": [
      "the average is  323.1111111111111\n"
     ]
    }
   ],
   "source": [
    "list=[123,345,567,543,234,432,109,110,445]\n",
    "sum_num=0\n",
    "for i in list:\n",
    "    sum_num=sum_num+i\n",
    "    average=sum_num/len(list)\n",
    "print(\"the average is \",average)\n",
    "    "
   ]
  },
  {
   "cell_type": "markdown",
   "id": "dc8b1e6f-b855-43a0-83e8-343c4edc64ab",
   "metadata": {},
   "source": [
    "10.develop a program that prints the first \"n\"fibonacci numbers using a for loop?"
   ]
  },
  {
   "cell_type": "code",
   "execution_count": 96,
   "id": "3dc3c0c8-9640-40fa-8343-55449fea9750",
   "metadata": {},
   "outputs": [
    {
     "name": "stdin",
     "output_type": "stream",
     "text": [
      "enter a number 8\n"
     ]
    },
    {
     "name": "stdout",
     "output_type": "stream",
     "text": [
      "0\n",
      "1\n",
      "1\n",
      "2\n",
      "3\n",
      "5\n",
      "8\n",
      "13\n"
     ]
    }
   ],
   "source": [
    "n=int(input(\"enter a number\"))\n",
    "a=0\n",
    "b=1\n",
    "print(a)\n",
    "print(b)\n",
    "for i in range(2,n):\n",
    "    c=a+b\n",
    "    a=b\n",
    "    b=c\n",
    "    print(c)\n",
    "      \n",
    "   "
   ]
  },
  {
   "cell_type": "markdown",
   "id": "bfe78621-52b2-4fa8-8e01-08f6c1a50824",
   "metadata": {},
   "source": [
    "intermidiate level"
   ]
  },
  {
   "cell_type": "markdown",
   "id": "9ca84b3f-159e-4c45-9fae-d7c54eed8f3c",
   "metadata": {},
   "source": [
    "11.write a program to check if a given list contains any duplicate usinga forloop"
   ]
  },
  {
   "cell_type": "code",
   "execution_count": 11,
   "id": "a9a7c3e2-c26e-46d8-8614-898c3d83eabb",
   "metadata": {},
   "outputs": [
    {
     "name": "stdout",
     "output_type": "stream",
     "text": [
      "the duplicate found in list are:- 12\n",
      "the duplicate found in list are:- 3\n",
      "the duplicate found in list are:- 4\n",
      "the duplicate found in list are:- 67\n",
      "the duplicate found in list are:- 90\n"
     ]
    }
   ],
   "source": [
    "list=[12,3,4,12,4,3,56,67,90,67,90]\n",
    "for i in range(0,len(list)):\n",
    "    for j in range(i+1,len(list)):\n",
    "        if(list[i]==list[j]):\n",
    "            print(\"the duplicate found in list are:-\",list[j])"
   ]
  },
  {
   "cell_type": "markdown",
   "id": "150c30f4-92b8-4229-a6d5-ee1e7c03aa14",
   "metadata": {},
   "source": [
    "12. Create a program that prints the prime numbers in a given range using a `for` loop.\n"
   ]
  },
  {
   "cell_type": "code",
   "execution_count": 16,
   "id": "f492e3f6-dd15-48aa-b728-65cf756b9e77",
   "metadata": {},
   "outputs": [
    {
     "name": "stdin",
     "output_type": "stream",
     "text": [
      "enter the starting number: 0\n",
      "enter the maximum number: 45\n"
     ]
    },
    {
     "name": "stdout",
     "output_type": "stream",
     "text": [
      "2 3 5 7 11 13 17 19 23 29 31 37 41 43 "
     ]
    }
   ],
   "source": [
    "n=int(input(\"enter the starting number:\"))\n",
    "m=int(input(\"enter the maximum number:\"))\n",
    "for i in range(n,m+1):\n",
    "    count=0\n",
    "    for j in range(1,i+1):\n",
    "        if(i%j==0):\n",
    "            \n",
    "            count=count+1\n",
    "    if(count==2):\n",
    "        print(i,end=\" \")"
   ]
  },
  {
   "cell_type": "markdown",
   "id": "88b5ef8b-2960-4255-97d2-abd0ab515a4c",
   "metadata": {},
   "source": [
    "13.Develop a program that counts the no of vowels in a string using a for loop\n"
   ]
  },
  {
   "cell_type": "code",
   "execution_count": 17,
   "id": "031203e4-4d33-402e-8762-19784c4c5a7c",
   "metadata": {},
   "outputs": [
    {
     "name": "stdin",
     "output_type": "stream",
     "text": [
      "enter a string: geetanjali vidyalaya is the school where i have studied\n"
     ]
    },
    {
     "name": "stdout",
     "output_type": "stream",
     "text": [
      "geetanjali vidyalaya is the school where i have studied\n",
      "the no of vowels ina given string 21\n"
     ]
    }
   ],
   "source": [
    "d=input(\"enter a string:\")\n",
    "string=d.lower()\n",
    "print(string)\n",
    "count=0\n",
    "list=[\"a\",\"e\",\"i\",\"o\",\"u\"]\n",
    "for char in string:\n",
    "    if char in list:\n",
    "        count=count+1\n",
    "print(\"the no of vowels ina given string\",count)\n"
   ]
  },
  {
   "cell_type": "markdown",
   "id": "9b520ba7-e5ee-4686-af21-7ebc1d035552",
   "metadata": {},
   "source": [
    "14. Write a program to find the maximum element in a 2D list using a nested `for` loop."
   ]
  },
  {
   "cell_type": "code",
   "execution_count": 2,
   "id": "dc6c6114-c7bd-44ac-8ce7-6695afcc4def",
   "metadata": {},
   "outputs": [
    {
     "ename": "TypeError",
     "evalue": "can only concatenate list (not \"int\") to list",
     "output_type": "error",
     "traceback": [
      "\u001b[0;31m---------------------------------------------------------------------------\u001b[0m",
      "\u001b[0;31mTypeError\u001b[0m                                 Traceback (most recent call last)",
      "Cell \u001b[0;32mIn[2], line 7\u001b[0m\n\u001b[1;32m      1\u001b[0m \u001b[38;5;28mlist\u001b[39m\u001b[38;5;241m=\u001b[39m[\n\u001b[1;32m      2\u001b[0m [\u001b[38;5;241m23\u001b[39m,\u001b[38;5;241m34\u001b[39m,\u001b[38;5;241m5\u001b[39m,\u001b[38;5;241m6\u001b[39m],\n\u001b[1;32m      3\u001b[0m [\u001b[38;5;241m21\u001b[39m,\u001b[38;5;241m34\u001b[39m,\u001b[38;5;241m56\u001b[39m],\n\u001b[1;32m      4\u001b[0m [\u001b[38;5;241m42\u001b[39m,\u001b[38;5;241m77\u001b[39m,\u001b[38;5;241m89\u001b[39m],\n\u001b[1;32m      5\u001b[0m ]\n\u001b[1;32m      6\u001b[0m \u001b[38;5;28;01mfor\u001b[39;00m i \u001b[38;5;129;01min\u001b[39;00m \u001b[38;5;28mlist\u001b[39m:\n\u001b[0;32m----> 7\u001b[0m     \u001b[38;5;28;01mfor\u001b[39;00m j \u001b[38;5;129;01min\u001b[39;00m \u001b[38;5;28mrange\u001b[39m(i,\u001b[43mi\u001b[49m\u001b[38;5;241;43m+\u001b[39;49m\u001b[38;5;241;43m1\u001b[39;49m):\n\u001b[1;32m      8\u001b[0m         \u001b[38;5;28mprint\u001b[39m()\n",
      "\u001b[0;31mTypeError\u001b[0m: can only concatenate list (not \"int\") to list"
     ]
    }
   ],
   "source": [
    "list=[\n",
    "[23,34,5,6],\n",
    "[21,34,56],\n",
    "[42,77,89],\n",
    "]\n",
    "for i in list:\n",
    "    for j in range(i,i+1):\n",
    "        \n",
    "        \n",
    "     \n",
    "        \n",
    "        "
   ]
  },
  {
   "cell_type": "markdown",
   "id": "2d3f335a-8e4f-4435-9dfe-479f7183bef6",
   "metadata": {},
   "source": [
    "15. Create a program that removes all occurrences of a specific element from a list using a `for` loop."
   ]
  },
  {
   "cell_type": "code",
   "execution_count": 10,
   "id": "cca4378c-4b50-485e-8837-95c9e44949ae",
   "metadata": {},
   "outputs": [
    {
     "name": "stdout",
     "output_type": "stream",
     "text": [
      "[33, 55, 67, 33, 89, 96, 67]\n"
     ]
    }
   ],
   "source": [
    "l1=[12,33,12,55,67,12,33,12,89,96,67]\n",
    "frequency=l1.count(12)\n",
    "for value in range(frequency):\n",
    "    l1.remove(12)\n",
    "print(l1)\n",
    " \n",
    "'''newl1=[element for element in l1 if element != 12 ]\n",
    "print(newl1)'''\n"
   ]
  },
  {
   "cell_type": "markdown",
   "id": "a080c795-dfd7-4770-9c4d-15a6c900dea9",
   "metadata": {},
   "source": [
    "16. Develop a program that generates a multiplication table for numbers from 1 to 5 using a nested `for` loop."
   ]
  },
  {
   "cell_type": "code",
   "execution_count": 31,
   "id": "4a6538fb-ea3e-4fe5-83f1-36641511d9ef",
   "metadata": {},
   "outputs": [
    {
     "name": "stdout",
     "output_type": "stream",
     "text": [
      "1 * 1 = 1\n",
      "1 * 2 = 2\n",
      "1 * 3 = 3\n",
      "1 * 4 = 4\n",
      "1 * 5 = 5\n",
      "1 * 6 = 6\n",
      "1 * 7 = 7\n",
      "1 * 8 = 8\n",
      "1 * 9 = 9\n",
      "1 * 10 = 10\n",
      "2 * 1 = 2\n",
      "2 * 2 = 4\n",
      "2 * 3 = 6\n",
      "2 * 4 = 8\n",
      "2 * 5 = 10\n",
      "2 * 6 = 12\n",
      "2 * 7 = 14\n",
      "2 * 8 = 16\n",
      "2 * 9 = 18\n",
      "2 * 10 = 20\n",
      "3 * 1 = 3\n",
      "3 * 2 = 6\n",
      "3 * 3 = 9\n",
      "3 * 4 = 12\n",
      "3 * 5 = 15\n",
      "3 * 6 = 18\n",
      "3 * 7 = 21\n",
      "3 * 8 = 24\n",
      "3 * 9 = 27\n",
      "3 * 10 = 30\n",
      "4 * 1 = 4\n",
      "4 * 2 = 8\n",
      "4 * 3 = 12\n",
      "4 * 4 = 16\n",
      "4 * 5 = 20\n",
      "4 * 6 = 24\n",
      "4 * 7 = 28\n",
      "4 * 8 = 32\n",
      "4 * 9 = 36\n",
      "4 * 10 = 40\n",
      "5 * 1 = 5\n",
      "5 * 2 = 10\n",
      "5 * 3 = 15\n",
      "5 * 4 = 20\n",
      "5 * 5 = 25\n",
      "5 * 6 = 30\n",
      "5 * 7 = 35\n",
      "5 * 8 = 40\n",
      "5 * 9 = 45\n",
      "5 * 10 = 50\n"
     ]
    }
   ],
   "source": [
    "d=[1,2,3,4,5]\n",
    "\n",
    "for i in d:\n",
    "    \n",
    "    for j in range(1,11):\n",
    "        print(i,\"*\",j,\"=\",i*j)\n",
    "        "
   ]
  },
  {
   "cell_type": "markdown",
   "id": "f1a91463-6390-46a0-8d2a-a3e64f985017",
   "metadata": {},
   "source": [
    "17. Write a program that converts a list of Fahrenheit temperatures to Celsius using a `for` loop."
   ]
  },
  {
   "cell_type": "code",
   "execution_count": 39,
   "id": "e9120762-0365-4282-8dc5-421fae7d8d3d",
   "metadata": {},
   "outputs": [
    {
     "name": "stdout",
     "output_type": "stream",
     "text": [
      "[31.94, 36.67, 32.22, 32.5, 33.89]\n"
     ]
    }
   ],
   "source": [
    "fah=[89.5,98,90,90.5,93]\n",
    "count=0\n",
    "cel=[]\n",
    "for f in fah:\n",
    "    c=(f-32)*5/9\n",
    "    cel.append(round(c,2))\n",
    "print(cel)"
   ]
  },
  {
   "cell_type": "markdown",
   "id": "dcc78558-6bbf-41ab-81a3-f35ce99a3b7f",
   "metadata": {},
   "source": [
    "18. Create a program to print the common elements from two lists using a `for` loop."
   ]
  },
  {
   "cell_type": "code",
   "execution_count": 41,
   "id": "955a6b66-7fd2-4721-98c0-db229221395a",
   "metadata": {},
   "outputs": [
    {
     "name": "stdout",
     "output_type": "stream",
     "text": [
      "12\n",
      "45\n",
      "67\n"
     ]
    }
   ],
   "source": [
    "l1=[12,34,45,67,8,9,10]\n",
    "l2=[23,12,45,6,81,67]\n",
    "for i in l1:\n",
    "    for j in l2:\n",
    "        if(i==j):\n",
    "            print(i)"
   ]
  },
  {
   "cell_type": "markdown",
   "id": "ac819c00-9c2c-4c5d-bf2f-2231ef6f8d07",
   "metadata": {},
   "source": [
    "19. Develop a program that prints the pattern of right-angled triangles using a `for` loop. Use ‘*’ to draw the\n",
    "pattern"
   ]
  },
  {
   "cell_type": "code",
   "execution_count": 61,
   "id": "bd8d3758-9866-41bf-89e9-a0a3833348ba",
   "metadata": {},
   "outputs": [
    {
     "name": "stdout",
     "output_type": "stream",
     "text": [
      "* \n",
      "* * \n",
      "* * * \n",
      "* * * * \n",
      "* * * * * \n"
     ]
    }
   ],
   "source": [
    "n=5\n",
    "for i in range(n):\n",
    "    for k in range(i+1):\n",
    "        print(\"*\",end=\" \")\n",
    "    print()"
   ]
  },
  {
   "cell_type": "markdown",
   "id": "cdf65de7-9931-4b30-9fd1-33256f360e72",
   "metadata": {},
   "source": [
    "20. Write a program to find the greatest common divisor (GCD) of two numbers using a `for` loop."
   ]
  },
  {
   "cell_type": "code",
   "execution_count": 66,
   "id": "a79a299c-d833-43ad-bc30-2020c6c9d238",
   "metadata": {},
   "outputs": [
    {
     "name": "stdout",
     "output_type": "stream",
     "text": [
      "the greatest common factor of 48 and 60 is 12\n"
     ]
    }
   ],
   "source": [
    "n1=48\n",
    "n2=60\n",
    "gcd=0\n",
    "for i in range(1,min(n1,n2)):\n",
    "    if(n1%i==0 and n2%i==0):\n",
    "        gcd=i\n",
    "print(\"the greatest common factor of\",n1 ,\"and\",n2,\"is\",gcd)"
   ]
  },
  {
   "cell_type": "markdown",
   "id": "169f2d82-948a-47fe-a590-427ff493b297",
   "metadata": {},
   "source": [
    "21. Create a program that calculates the sum of the digits of numbers in a list using a list comprehension."
   ]
  },
  {
   "cell_type": "code",
   "execution_count": 70,
   "id": "5cda86df-aaa3-432a-b89c-756546493e0b",
   "metadata": {},
   "outputs": [
    {
     "name": "stdout",
     "output_type": "stream",
     "text": [
      "738\n"
     ]
    }
   ],
   "source": [
    "d=[12,3,4,5,6,7,223,33,444,1]\n",
    "total=0\n",
    "m=[total:=total+a for a in d]\n",
    "print(total)"
   ]
  },
  {
   "cell_type": "markdown",
   "id": "a8ee42d2-94a8-4800-b86f-65ebf8ae3a7b",
   "metadata": {},
   "source": [
    "22. Write a program to find the prime factors of a given number using a `for` loop and list comprehension."
   ]
  },
  {
   "cell_type": "code",
   "execution_count": null,
   "id": "87953b37-8ab7-4510-8ed1-7df8fdaf4571",
   "metadata": {},
   "outputs": [],
   "source": []
  },
  {
   "cell_type": "code",
   "execution_count": null,
   "id": "953a12d8-6c70-47c5-93f3-c46aef1eb5fb",
   "metadata": {},
   "outputs": [],
   "source": []
  },
  {
   "cell_type": "code",
   "execution_count": null,
   "id": "56e0eafb-27a1-4253-a65f-05347d6e693a",
   "metadata": {},
   "outputs": [],
   "source": []
  },
  {
   "cell_type": "markdown",
   "id": "3342218c-9ca5-46e5-8d4f-a4b2411ba3f0",
   "metadata": {},
   "source": [
    "23. Develop a program that extracts unique elements from a list and stores them in a new list using a list\n",
    "comprehension."
   ]
  },
  {
   "cell_type": "code",
   "execution_count": 14,
   "id": "6465c04a-abc3-4953-8143-a719a590d39c",
   "metadata": {},
   "outputs": [
    {
     "ename": "TypeError",
     "evalue": "unsupported operand type(s) for &: 'str' and 'str'",
     "output_type": "error",
     "traceback": [
      "\u001b[0;31m---------------------------------------------------------------------------\u001b[0m",
      "\u001b[0;31mTypeError\u001b[0m                                 Traceback (most recent call last)",
      "Cell \u001b[0;32mIn[14], line 2\u001b[0m\n\u001b[1;32m      1\u001b[0m h\u001b[38;5;241m=\u001b[39m[\u001b[38;5;124m'\u001b[39m\u001b[38;5;124mred\u001b[39m\u001b[38;5;124m'\u001b[39m,\u001b[38;5;124m'\u001b[39m\u001b[38;5;124mgreen\u001b[39m\u001b[38;5;124m'\u001b[39m,\u001b[38;5;124m'\u001b[39m\u001b[38;5;124mwhite\u001b[39m\u001b[38;5;124m'\u001b[39m,\u001b[38;5;124m'\u001b[39m\u001b[38;5;124mblack\u001b[39m\u001b[38;5;124m'\u001b[39m,\u001b[38;5;124m'\u001b[39m\u001b[38;5;124mred\u001b[39m\u001b[38;5;124m'\u001b[39m,\u001b[38;5;124m'\u001b[39m\u001b[38;5;124mgreen\u001b[39m\u001b[38;5;124m'\u001b[39m]\n\u001b[0;32m----> 2\u001b[0m d\u001b[38;5;241m=\u001b[39m[name \u001b[38;5;28;01mfor\u001b[39;00m name \u001b[38;5;129;01min\u001b[39;00m h \u001b[38;5;28;01mif\u001b[39;00m name \u001b[38;5;241m!=\u001b[39m\u001b[38;5;124m'\u001b[39m\u001b[38;5;124mred\u001b[39m\u001b[38;5;124m'\u001b[39m\u001b[38;5;241m&\u001b[39m\u001b[38;5;124m'\u001b[39m\u001b[38;5;124mgreen\u001b[39m\u001b[38;5;124m'\u001b[39m  ]\n\u001b[1;32m      3\u001b[0m d\n",
      "Cell \u001b[0;32mIn[14], line 2\u001b[0m, in \u001b[0;36m<listcomp>\u001b[0;34m(.0)\u001b[0m\n\u001b[1;32m      1\u001b[0m h\u001b[38;5;241m=\u001b[39m[\u001b[38;5;124m'\u001b[39m\u001b[38;5;124mred\u001b[39m\u001b[38;5;124m'\u001b[39m,\u001b[38;5;124m'\u001b[39m\u001b[38;5;124mgreen\u001b[39m\u001b[38;5;124m'\u001b[39m,\u001b[38;5;124m'\u001b[39m\u001b[38;5;124mwhite\u001b[39m\u001b[38;5;124m'\u001b[39m,\u001b[38;5;124m'\u001b[39m\u001b[38;5;124mblack\u001b[39m\u001b[38;5;124m'\u001b[39m,\u001b[38;5;124m'\u001b[39m\u001b[38;5;124mred\u001b[39m\u001b[38;5;124m'\u001b[39m,\u001b[38;5;124m'\u001b[39m\u001b[38;5;124mgreen\u001b[39m\u001b[38;5;124m'\u001b[39m]\n\u001b[0;32m----> 2\u001b[0m d\u001b[38;5;241m=\u001b[39m[name \u001b[38;5;28;01mfor\u001b[39;00m name \u001b[38;5;129;01min\u001b[39;00m h \u001b[38;5;28;01mif\u001b[39;00m name \u001b[38;5;241m!=\u001b[39m\u001b[38;5;124;43m'\u001b[39;49m\u001b[38;5;124;43mred\u001b[39;49m\u001b[38;5;124;43m'\u001b[39;49m\u001b[38;5;241;43m&\u001b[39;49m\u001b[38;5;124;43m'\u001b[39;49m\u001b[38;5;124;43mgreen\u001b[39;49m\u001b[38;5;124;43m'\u001b[39;49m  ]\n\u001b[1;32m      3\u001b[0m d\n",
      "\u001b[0;31mTypeError\u001b[0m: unsupported operand type(s) for &: 'str' and 'str'"
     ]
    }
   ],
   "source": [
    "h=['red','green','white','black','red','green']\n",
    "d=[name for name in h if name !='red''green'  ]\n",
    "d"
   ]
  },
  {
   "cell_type": "code",
   "execution_count": 15,
   "id": "aa5b0dd0-92c4-46e9-8ac9-05eb629d2690",
   "metadata": {},
   "outputs": [
    {
     "ename": "SyntaxError",
     "evalue": "Missing parentheses in call to 'print'. Did you mean print(...)? (1078870147.py, line 14)",
     "output_type": "error",
     "traceback": [
      "\u001b[0;36m  Cell \u001b[0;32mIn[15], line 14\u001b[0;36m\u001b[0m\n\u001b[0;31m    print x,\u001b[0m\n\u001b[0m    ^\u001b[0m\n\u001b[0;31mSyntaxError\u001b[0m\u001b[0;31m:\u001b[0m Missing parentheses in call to 'print'. Did you mean print(...)?\n"
     ]
    }
   ],
   "source": [
    "# function to get unique values\n",
    "def unique(list1):\n",
    "\n",
    "\t# initialize a null list\n",
    "\tunique_list = []\n",
    "\n",
    "\t# traverse for all elements\n",
    "\tfor x in list1:\n",
    "\t\t# check if exists in unique_list or not\n",
    "\t\tif x not in unique_list:\n",
    "\t\t\tunique_list.append(x)\n",
    "\t# print list\n",
    "\tfor x in unique_list:\n",
    "\t\tprint x,\n",
    "\n",
    "\n",
    "# driver code\n",
    "list1 = [10, 20, 10, 30, 40, 40]\n",
    "print(\"the unique values from 1st list is\")\n",
    "unique(list1)\n",
    "\n",
    "\n",
    "list2 = [1, 2, 1, 1, 3, 4, 3, 3, 5]\n",
    "print(\"\\nthe unique values from 2nd list is\")\n",
    "unique(list2)\n"
   ]
  },
  {
   "cell_type": "code",
   "execution_count": null,
   "id": "aab5ce17-359c-4a85-9bf0-b7726b6f340b",
   "metadata": {},
   "outputs": [],
   "source": []
  }
 ],
 "metadata": {
  "kernelspec": {
   "display_name": "Python 3 (ipykernel)",
   "language": "python",
   "name": "python3"
  },
  "language_info": {
   "codemirror_mode": {
    "name": "ipython",
    "version": 3
   },
   "file_extension": ".py",
   "mimetype": "text/x-python",
   "name": "python",
   "nbconvert_exporter": "python",
   "pygments_lexer": "ipython3",
   "version": "3.10.8"
  }
 },
 "nbformat": 4,
 "nbformat_minor": 5
}
